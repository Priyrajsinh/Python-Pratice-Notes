{
 "cells": [
  {
   "cell_type": "code",
   "execution_count": 9,
   "id": "88255b83",
   "metadata": {},
   "outputs": [],
   "source": [
    "def my_function(fname):\n",
    "    print(fname + \" Parmar\")\n",
    "\n"
   ]
  },
  {
   "cell_type": "code",
   "execution_count": 10,
   "id": "0636ef9d",
   "metadata": {},
   "outputs": [
    {
     "name": "stdout",
     "output_type": "stream",
     "text": [
      "Priyraj Parmar\n",
      "Krish Parmar\n",
      "dj Parmar\n"
     ]
    }
   ],
   "source": [
    "my_function(\"Priyraj\")\n",
    "my_function(\"Krish\")\n",
    "\n",
    "my_function(\"dj\")"
   ]
  },
  {
   "cell_type": "code",
   "execution_count": 14,
   "id": "fd93d38b",
   "metadata": {},
   "outputs": [
    {
     "name": "stdout",
     "output_type": "stream",
     "text": [
      "Emil Refsnes\n"
     ]
    },
    {
     "ename": "TypeError",
     "evalue": "my_function() missing 1 required positional argument: 'lname'",
     "output_type": "error",
     "traceback": [
      "\u001b[1;31m---------------------------------------------------------------------------\u001b[0m",
      "\u001b[1;31mTypeError\u001b[0m                                 Traceback (most recent call last)",
      "Cell \u001b[1;32mIn[14], line 5\u001b[0m\n\u001b[0;32m      2\u001b[0m     \u001b[38;5;28mprint\u001b[39m(fname \u001b[38;5;241m+\u001b[39m \u001b[38;5;124m\"\u001b[39m\u001b[38;5;124m \u001b[39m\u001b[38;5;124m\"\u001b[39m \u001b[38;5;241m+\u001b[39m lname)\n\u001b[0;32m      4\u001b[0m my_function(\u001b[38;5;124m\"\u001b[39m\u001b[38;5;124mEmil\u001b[39m\u001b[38;5;124m\"\u001b[39m, \u001b[38;5;124m\"\u001b[39m\u001b[38;5;124mRefsnes\u001b[39m\u001b[38;5;124m\"\u001b[39m)\n\u001b[1;32m----> 5\u001b[0m \u001b[43mmy_function\u001b[49m\u001b[43m(\u001b[49m\u001b[38;5;124;43m\"\u001b[39;49m\u001b[38;5;124;43mEmil\u001b[39;49m\u001b[38;5;124;43m\"\u001b[39;49m\u001b[43m)\u001b[49m\n",
      "\u001b[1;31mTypeError\u001b[0m: my_function() missing 1 required positional argument: 'lname'"
     ]
    }
   ],
   "source": [
    "def my_function(fname, lname):\n",
    "    print(fname + \" \" + lname)\n",
    "\n",
    "my_function(\"Emil\", \"Refsnes\")\n",
    "my_function(\"Emil\")\n"
   ]
  },
  {
   "cell_type": "code",
   "execution_count": 19,
   "id": "0425887e",
   "metadata": {},
   "outputs": [],
   "source": [
    "def my_function(*kids):\n",
    "    print(\"The youngest child is \" + kids[2])\n"
   ]
  },
  {
   "cell_type": "code",
   "execution_count": 20,
   "id": "2b843875",
   "metadata": {},
   "outputs": [
    {
     "name": "stdout",
     "output_type": "stream",
     "text": [
      "The youngest child is linus\n"
     ]
    }
   ],
   "source": [
    "my_function(\"Emil\", \"Tobias\", \"linus\")"
   ]
  },
  {
   "cell_type": "code",
   "execution_count": 21,
   "id": "9c88b422",
   "metadata": {},
   "outputs": [],
   "source": [
    "def my_function(child3, child2, child1):\n",
    "    print(\"The youngest chid is \" + child3)\n",
    "\n",
    "    "
   ]
  },
  {
   "cell_type": "code",
   "execution_count": 23,
   "id": "3d33e0ef",
   "metadata": {},
   "outputs": [
    {
     "name": "stdout",
     "output_type": "stream",
     "text": [
      "The youngest chid is piyu\n"
     ]
    }
   ],
   "source": [
    "my_function(child1 = \"Emil\", child2 = \"krish\", child3 = \"piyu\")"
   ]
  },
  {
   "cell_type": "code",
   "execution_count": 2,
   "id": "b8f07730",
   "metadata": {},
   "outputs": [],
   "source": [
    "def my_function(**kid):\n",
    "    print(\"His last name is \" +kid[\"lname\"])\n"
   ]
  },
  {
   "cell_type": "code",
   "execution_count": 3,
   "id": "97bb9f75",
   "metadata": {},
   "outputs": [
    {
     "name": "stdout",
     "output_type": "stream",
     "text": [
      "His last name is Parmar\n"
     ]
    }
   ],
   "source": [
    "my_function(fname = \"Krishsinh\", lname = \"Parmar\")"
   ]
  },
  {
   "cell_type": "code",
   "execution_count": 7,
   "id": "bb9343a5",
   "metadata": {},
   "outputs": [],
   "source": [
    "def my_function(country = \"India\"):\n",
    "    print(\"I am from \" + country)\n"
   ]
  },
  {
   "cell_type": "code",
   "execution_count": 8,
   "id": "7e83eb62",
   "metadata": {},
   "outputs": [
    {
     "name": "stdout",
     "output_type": "stream",
     "text": [
      "I am from sweden\n",
      "I am from India\n",
      "I am from India\n",
      "I am from Brazil\n"
     ]
    }
   ],
   "source": [
    "my_function(\"sweden\")\n",
    "my_function(\"India\")\n",
    "my_function()\n",
    "my_function(\"Brazil\")\n"
   ]
  },
  {
   "cell_type": "code",
   "execution_count": 9,
   "id": "123321a0",
   "metadata": {},
   "outputs": [],
   "source": [
    "def my_function(x):\n",
    "    return 5 * x"
   ]
  },
  {
   "cell_type": "code",
   "execution_count": 10,
   "id": "5cda91a7",
   "metadata": {},
   "outputs": [
    {
     "name": "stdout",
     "output_type": "stream",
     "text": [
      "15\n",
      "25\n",
      "45\n"
     ]
    }
   ],
   "source": [
    "print(my_function(3))\n",
    "print(my_function(5))\n",
    "print(my_function(9))\n"
   ]
  },
  {
   "cell_type": "code",
   "execution_count": 11,
   "id": "ae203620",
   "metadata": {},
   "outputs": [],
   "source": [
    "def my_function(a, b, /, *, c, d):\n",
    "    print(a + b + c + d)"
   ]
  },
  {
   "cell_type": "code",
   "execution_count": 12,
   "id": "00e1a9f4",
   "metadata": {},
   "outputs": [
    {
     "name": "stdout",
     "output_type": "stream",
     "text": [
      "26\n"
     ]
    }
   ],
   "source": [
    "my_function(5, 6 , c = 7, d = 8)"
   ]
  }
 ],
 "metadata": {
  "kernelspec": {
   "display_name": "Python 3",
   "language": "python",
   "name": "python3"
  },
  "language_info": {
   "codemirror_mode": {
    "name": "ipython",
    "version": 3
   },
   "file_extension": ".py",
   "mimetype": "text/x-python",
   "name": "python",
   "nbconvert_exporter": "python",
   "pygments_lexer": "ipython3",
   "version": "3.10.5"
  }
 },
 "nbformat": 4,
 "nbformat_minor": 5
}
