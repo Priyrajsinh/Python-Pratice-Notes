{
 "cells": [
  {
   "cell_type": "code",
   "execution_count": 72,
   "id": "67788fa4",
   "metadata": {},
   "outputs": [
    {
     "name": "stdout",
     "output_type": "stream",
     "text": [
      "Priyrajsinh\n"
     ]
    }
   ],
   "source": [
    "print(\"Priyrajsinh\")"
   ]
  },
  {
   "cell_type": "code",
   "execution_count": 73,
   "id": "11e58178",
   "metadata": {},
   "outputs": [
    {
     "name": "stdout",
     "output_type": "stream",
     "text": [
      "15\n"
     ]
    }
   ],
   "source": [
    "a = 5\n",
    "b = 10\n",
    "print(a+b)\n"
   ]
  },
  {
   "cell_type": "code",
   "execution_count": 74,
   "id": "a46b680b",
   "metadata": {},
   "outputs": [
    {
     "name": "stdout",
     "output_type": "stream",
     "text": [
      "(8+2j)\n"
     ]
    }
   ],
   "source": [
    "a = 5 - 2j\n",
    "b = 3 + 4j\n",
    "print(a + b)"
   ]
  },
  {
   "cell_type": "code",
   "execution_count": 75,
   "id": "cd706190",
   "metadata": {},
   "outputs": [
    {
     "name": "stdout",
     "output_type": "stream",
     "text": [
      "(551.7683441604779-455.49896174722505j)\n"
     ]
    }
   ],
   "source": [
    "print(a ** b)"
   ]
  },
  {
   "cell_type": "code",
   "execution_count": 76,
   "id": "a6b4e3eb",
   "metadata": {},
   "outputs": [
    {
     "data": {
      "text/plain": [
       "' priyrajsinh '"
      ]
     },
     "execution_count": 76,
     "metadata": {},
     "output_type": "execute_result"
    }
   ],
   "source": [
    "\"\"\" priyrajsinh \"\"\""
   ]
  },
  {
   "cell_type": "code",
   "execution_count": 77,
   "id": "cb1d3418",
   "metadata": {},
   "outputs": [
    {
     "data": {
      "text/plain": [
       "complex"
      ]
     },
     "execution_count": 77,
     "metadata": {},
     "output_type": "execute_result"
    }
   ],
   "source": [
    "type(a)\n",
    "type(b)"
   ]
  },
  {
   "cell_type": "code",
   "execution_count": 78,
   "id": "92ba28e5",
   "metadata": {},
   "outputs": [
    {
     "name": "stdout",
     "output_type": "stream",
     "text": [
      "\"\"\n"
     ]
    }
   ],
   "source": [
    "print('\"\"') #single and double qoute can be used diferently"
   ]
  },
  {
   "cell_type": "code",
   "execution_count": 79,
   "id": "7e299623",
   "metadata": {},
   "outputs": [
    {
     "name": "stdout",
     "output_type": "stream",
     "text": [
      "orange\n",
      "orange\n",
      "orange\n"
     ]
    }
   ],
   "source": [
    "x= y= z= \"orange\" #one input can be assigned to multiple values\n",
    "print(x)\n",
    "print(y)\n",
    "print(z)"
   ]
  },
  {
   "cell_type": "code",
   "execution_count": 80,
   "id": "4c0ad8ff",
   "metadata": {},
   "outputs": [
    {
     "name": "stdout",
     "output_type": "stream",
     "text": [
      "orange is a fruit\n",
      "banana is also a fruit\n",
      "orange is a fruit orange is a fruit\n"
     ]
    }
   ],
   "source": [
    "x = \"orange is a fruit\"\n",
    "print(x)\n",
    "y = \"banana is also a fruit\"\n",
    "print(y)\n",
    "y=x\n",
    "print(x,y)"
   ]
  },
  {
   "cell_type": "code",
   "execution_count": 81,
   "id": "8fe3b19d",
   "metadata": {},
   "outputs": [
    {
     "name": "stdout",
     "output_type": "stream",
     "text": [
      "Hello World\n"
     ]
    },
    {
     "data": {
      "text/plain": [
       "'hello world'"
      ]
     },
     "execution_count": 81,
     "metadata": {},
     "output_type": "execute_result"
    }
   ],
   "source": [
    "a = \"Hello World\"\n",
    "print(a)\n",
    "a.upper()\n",
    "a.lower()"
   ]
  },
  {
   "cell_type": "code",
   "execution_count": 82,
   "id": "fef73b80",
   "metadata": {},
   "outputs": [
    {
     "name": "stdout",
     "output_type": "stream",
     "text": [
      "                                                                          priyraj\n",
      "priyraj\n"
     ]
    }
   ],
   "source": [
    "a = \"                                                                          priyraj\"\n",
    "print(a)\n",
    "print(a.strip())"
   ]
  },
  {
   "cell_type": "code",
   "execution_count": 83,
   "id": "2c3c5867",
   "metadata": {},
   "outputs": [
    {
     "name": "stdout",
     "output_type": "stream",
     "text": [
      "My name is priyraj and I am 28 years old\n"
     ]
    }
   ],
   "source": [
    "age = 24\n",
    "print(f\"My name is priyraj and I am {age+4} years old\")"
   ]
  },
  {
   "cell_type": "code",
   "execution_count": 84,
   "id": "a30aac96",
   "metadata": {},
   "outputs": [
    {
     "name": "stdout",
     "output_type": "stream",
     "text": [
      "It's a sunny day\n"
     ]
    }
   ],
   "source": [
    "print('It\\'s a sunny day')"
   ]
  },
  {
   "cell_type": "code",
   "execution_count": 85,
   "id": "d1c9e4d7",
   "metadata": {},
   "outputs": [
    {
     "name": "stdout",
     "output_type": "stream",
     "text": [
      "Helo I am priyraj\n",
      "and i am learing python\n"
     ]
    }
   ],
   "source": [
    "print(\"Helo I am priyraj\\nand i am learing python\")"
   ]
  },
  {
   "cell_type": "code",
   "execution_count": 86,
   "id": "0064c737",
   "metadata": {},
   "outputs": [
    {
     "name": "stdout",
     "output_type": "stream",
     "text": [
      "<class 'int'>\n",
      "<class 'str'>\n"
     ]
    }
   ],
   "source": [
    "x =5\n",
    "y = \"priyraj\"\n",
    "\n",
    "print(type(x))\n",
    "print(type(y))\n"
   ]
  },
  {
   "cell_type": "code",
   "execution_count": 87,
   "id": "a0eedf2b",
   "metadata": {},
   "outputs": [
    {
     "name": "stdout",
     "output_type": "stream",
     "text": [
      "<class 'float'>\n",
      "<class 'float'>\n",
      "<class 'float'>\n"
     ]
    }
   ],
   "source": [
    "x = 35e3\n",
    "y = 12E4\n",
    "z = -87.7e100\n",
    "print(type(x))\n",
    "print(type(y))\n",
    "print(type(z))"
   ]
  },
  {
   "cell_type": "code",
   "execution_count": 88,
   "id": "248dc056",
   "metadata": {},
   "outputs": [
    {
     "name": "stdout",
     "output_type": "stream",
     "text": [
      "The Addition of 5.00 and 5.00 is 10.00\n",
      "The Subtraction of 5.00 and 5.00 is 0.00\n",
      "The Multiplication of 5.00 and 5.00 is 25.00\n",
      "The Division of 5.00 and 5.00 is 1.00\n"
     ]
    }
   ],
   "source": [
    "#calculator\n",
    "a = float(input(\"Enter first number: \"))\n",
    "b = float(input(\"Entern second number:\"))\n",
    "\n",
    "c = a + b\n",
    "d = a - b\n",
    "e = a * b\n",
    "f = a / b\n",
    "print(f\"The Addition of {a:.2f} and {b:.2f} is {c:.2f}\")\n",
    "print(f\"The Subtraction of {a:.2f} and {b:.2f} is {d:.2f}\")\n",
    "print(f\"The Multiplication of {a:.2f} and {b:.2f} is {e:.2f}\")\n",
    "print(f\"The Division of {a:.2f} and {b:.2f} is {f:.2f}\")"
   ]
  },
  {
   "cell_type": "code",
   "execution_count": 89,
   "id": "382452ae",
   "metadata": {},
   "outputs": [
    {
     "name": "stdout",
     "output_type": "stream",
     "text": [
      "Body temperatue is 36.7 degree celsius\n"
     ]
    }
   ],
   "source": [
    "### **1. Declaring and Printing a Float**\n",
    "temperature = 36.7\n",
    "print(f\"Body temperatue is {temperature} degree celsius\")"
   ]
  },
  {
   "cell_type": "code",
   "execution_count": 90,
   "id": "b3692bd8",
   "metadata": {},
   "outputs": [
    {
     "name": "stdout",
     "output_type": "stream",
     "text": [
      "The sum of 5.5 and 2.2 is 7.7\n"
     ]
    }
   ],
   "source": [
    "#2.float arithmetic operations\n",
    "a = 5.5\n",
    "b = 2.2\n",
    "sum = a + b\n",
    "print(f\"The sum of {a} and {b} is {sum}\")"
   ]
  },
  {
   "cell_type": "code",
   "execution_count": 91,
   "id": "549eaadd",
   "metadata": {},
   "outputs": [
    {
     "name": "stdout",
     "output_type": "stream",
     "text": [
      "The area is 11.0\n"
     ]
    }
   ],
   "source": [
    "### **3. Multiplication with Floats**\n",
    "length = 5.5\n",
    "width = 2.0\n",
    "area = length * width\n",
    "print(f\"The area is {area}\")"
   ]
  },
  {
   "cell_type": "code",
   "execution_count": 92,
   "id": "c35a235f",
   "metadata": {},
   "outputs": [
    {
     "name": "stdout",
     "output_type": "stream",
     "text": [
      "Divison result is 2.5\n"
     ]
    }
   ],
   "source": [
    "### **4. Division of Floats**\n",
    "num = 10\n",
    "dno = 4\n",
    "result = num / dno\n",
    "print(f\"Divison result is {result}\")"
   ]
  },
  {
   "cell_type": "code",
   "execution_count": 93,
   "id": "5166e392",
   "metadata": {},
   "outputs": [
    {
     "name": "stdout",
     "output_type": "stream",
     "text": [
      "Power result is 15.625\n"
     ]
    }
   ],
   "source": [
    "### **5. Using Floats in Power Calculations**\n",
    "base = 2.5\n",
    "exponent = 3\n",
    "power = base ** exponent\n",
    "print(f\"Power result is {power}\")"
   ]
  },
  {
   "cell_type": "code",
   "execution_count": 94,
   "id": "1334e1aa",
   "metadata": {},
   "outputs": [
    {
     "name": "stdout",
     "output_type": "stream",
     "text": [
      "The result of multiplying integer 10 and float 2.5 is 25.0\n"
     ]
    }
   ],
   "source": [
    "### **6. Combining Integers and Floats**\n",
    "int_value = 10\n",
    "float_value = 2.5\n",
    "result = int_value * float_value\n",
    "print(f\"The result of multiplying integer {int_value} and float {float_value} is {result}\")"
   ]
  },
  {
   "cell_type": "code",
   "execution_count": 95,
   "id": "f01c0222",
   "metadata": {},
   "outputs": [
    {
     "name": "stdout",
     "output_type": "stream",
     "text": [
      "The rounded value is 3.15\n"
     ]
    }
   ],
   "source": [
    "### **7. Rounding a Float**\n",
    "value = 3.14831\n",
    "rounded_value = round(value, 2)\n",
    "print(f\"The rounded value is {rounded_value}\")"
   ]
  },
  {
   "cell_type": "code",
   "execution_count": 96,
   "id": "b172d94a",
   "metadata": {},
   "outputs": [
    {
     "name": "stdout",
     "output_type": "stream",
     "text": [
      "The converted float value to integer is 7\n"
     ]
    }
   ],
   "source": [
    "### **8. Converting Float to Integer**\n",
    "float_value = 7.8\n",
    "int_value = int(float_value)\n",
    "print(f\"The converted float value to integer is {int_value}\")"
   ]
  },
  {
   "cell_type": "code",
   "execution_count": 1,
   "id": "9841e025",
   "metadata": {},
   "outputs": [
    {
     "name": "stdout",
     "output_type": "stream",
     "text": [
      "The total price is  104.96000000000001\n"
     ]
    }
   ],
   "source": [
    "### **10. Floats in a List**\n",
    "price = [19.99, 29.99, 4.99, 49.99]\n",
    "total = sum(price)\n",
    "print(\"The total price is \", total)"
   ]
  },
  {
   "cell_type": "code",
   "execution_count": 2,
   "id": "43819dd9",
   "metadata": {},
   "outputs": [
    {
     "name": "stdout",
     "output_type": "stream",
     "text": [
      "The total price is104.96000000000001\n"
     ]
    }
   ],
   "source": [
    "price = [19.99, 29.99, 4.99, 49.99]\n",
    "total = sum (price)\n",
    "print(f\"The total price is{total}\")"
   ]
  },
  {
   "cell_type": "code",
   "execution_count": 3,
   "id": "bf4f1788",
   "metadata": {},
   "outputs": [
    {
     "name": "stdout",
     "output_type": "stream",
     "text": [
      "The acquired list is  [19.99, 29.99, 4.99, 49.99, 59.99]\n",
      "The total is 164.9500\n"
     ]
    }
   ],
   "source": [
    "a = float(input(\"Enter first number: \"))\n",
    "b = float(input(\"Entern second number:\"))\n",
    "c = float(input(\"Enter third number:\"))\n",
    "d = float(input(\"Enter fourth number:\"))\n",
    "e = float(input(\"Enter fifth number:\")) \n",
    "\n",
    "list = [a,b,c,d,e]\n",
    "total = sum(list)\n",
    "print(\"The acquired list is \", list)\n",
    "print(f\"The total is {total:.4f}\")"
   ]
  }
 ],
 "metadata": {
  "kernelspec": {
   "display_name": "Python 3",
   "language": "python",
   "name": "python3"
  },
  "language_info": {
   "codemirror_mode": {
    "name": "ipython",
    "version": 3
   },
   "file_extension": ".py",
   "mimetype": "text/x-python",
   "name": "python",
   "nbconvert_exporter": "python",
   "pygments_lexer": "ipython3",
   "version": "3.10.5"
  }
 },
 "nbformat": 4,
 "nbformat_minor": 5
}
