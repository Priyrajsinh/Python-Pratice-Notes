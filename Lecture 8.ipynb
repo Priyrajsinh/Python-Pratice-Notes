{
 "cells": [
  {
   "cell_type": "code",
   "execution_count": 4,
   "id": "de90aa66",
   "metadata": {},
   "outputs": [
    {
     "name": "stdout",
     "output_type": "stream",
     "text": [
      "sorted words by length: ['kota', 'delhi', 'Jaipur', 'chndigarh', 'Bhavnagar']\n"
     ]
    }
   ],
   "source": [
    "city = [\"Jaipur\", \"kota\", \"chndigarh\", \"delhi\", \"Bhavnagar\"]\n",
    "def length(city):\n",
    "    return len(city)\n",
    "sort = sorted(city, key=length)\n",
    "print(\"sorted words by length:\", sort)"
   ]
  },
  {
   "cell_type": "code",
   "execution_count": 8,
   "id": "3cc6c925",
   "metadata": {},
   "outputs": [
    {
     "name": "stdout",
     "output_type": "stream",
     "text": [
      "sorted words by lenght:  ['chndigarh', 'Bhavnagar', 'Jaipur', 'delhi', 'kota']\n"
     ]
    }
   ],
   "source": [
    "city = [\"Jaipur\", \"kota\", \"chndigarh\", \"delhi\", \"Bhavnagar\"]\n",
    "sort = sorted(city, key=lambda x: len(x),reverse=True)\n",
    "print(\"sorted words by lenght: \", sort)"
   ]
  },
  {
   "cell_type": "code",
   "execution_count": 9,
   "id": "4cf6ec1d",
   "metadata": {},
   "outputs": [
    {
     "name": "stdout",
     "output_type": "stream",
     "text": [
      "Even numbers [12, 20, 40, 52, 60, 72, 80, 100]\n"
     ]
    }
   ],
   "source": [
    "numbers = [11, 12, 20, 31, 40, 52, 60, 72, 80, 91, 100]\n",
    "evenn = list(filter(lambda x: x % 2 ==0, numbers))\n",
    "print(\"Even numbers\", evenn)"
   ]
  },
  {
   "cell_type": "code",
   "execution_count": 10,
   "id": "57c27ac6",
   "metadata": {},
   "outputs": [
    {
     "name": "stdout",
     "output_type": "stream",
     "text": [
      "25\n"
     ]
    }
   ],
   "source": [
    "##square\n",
    "square = lambda x:x**2\n",
    "print(square(5))"
   ]
  },
  {
   "cell_type": "code",
   "execution_count": 11,
   "id": "dfa7ccfa",
   "metadata": {},
   "outputs": [
    {
     "name": "stdout",
     "output_type": "stream",
     "text": [
      "30\n"
     ]
    }
   ],
   "source": [
    "add = lambda a,b:a + b\n",
    "print(add(10, 20))"
   ]
  },
  {
   "cell_type": "code",
   "execution_count": 12,
   "id": "b0e911b7",
   "metadata": {},
   "outputs": [
    {
     "name": "stdout",
     "output_type": "stream",
     "text": [
      "True\n",
      "False\n"
     ]
    }
   ],
   "source": [
    "is_even = lambda x:x % 2 == 0\n",
    "print(is_even(4))\n",
    "print(is_even(5))"
   ]
  },
  {
   "cell_type": "code",
   "execution_count": 13,
   "id": "fdf53cb9",
   "metadata": {},
   "outputs": [
    {
     "name": "stdout",
     "output_type": "stream",
     "text": [
      "[(4, 2), (1, 3), (7, 5)]\n"
     ]
    }
   ],
   "source": [
    "data = [(1, 3), (4, 2), (7, 5)]\n",
    "sorted_data = sorted(data, key=lambda x:x[1])\n",
    "print(sorted_data)"
   ]
  }
 ],
 "metadata": {
  "kernelspec": {
   "display_name": "Python 3",
   "language": "python",
   "name": "python3"
  },
  "language_info": {
   "codemirror_mode": {
    "name": "ipython",
    "version": 3
   },
   "file_extension": ".py",
   "mimetype": "text/x-python",
   "name": "python",
   "nbconvert_exporter": "python",
   "pygments_lexer": "ipython3",
   "version": "3.10.5"
  }
 },
 "nbformat": 4,
 "nbformat_minor": 5
}
