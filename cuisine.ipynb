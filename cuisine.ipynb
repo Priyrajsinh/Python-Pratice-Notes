{
 "cells": [
  {
   "cell_type": "code",
   "execution_count": 5,
   "id": "df61f594",
   "metadata": {},
   "outputs": [
    {
     "name": "stdout",
     "output_type": "stream",
     "text": [
      "Welcome to couisine recomendation system\n",
      "Please select a couisine from the list below\n",
      "1.Gujarati\n",
      "2.Punjabi\n",
      "3.Chinese\n",
      "4.Italian\n",
      "\n",
      "Recommended Italian dishes are: ['pasta in pesto, red, white, pink sauce', 'pizza', 'lasagana', 'risotto']\n"
     ]
    }
   ],
   "source": [
    "## cuisine recommendation system\n",
    "\n",
    "## list of cuisines for each cuisines\n",
    "gujarati = [\"bateta nu sak\", \"ringla nu sak\", \"sev tameta nu sak\", \"olo rotlo\", \"dahi tikhari\", \"dhokdi nu sak\"]\n",
    "punjabi = [\"panner butter masala\", \"cheese butter masala\", \"veg jaipuri\", \"veg makhanwala\", \"chole\", \"rajma\"]\n",
    "chinese = [\"manchurian\", \"hakka noddles\", \"veg 65\", \"chinese soup\", \"spring rools\"]\n",
    "italian = [\"pasta in pesto, red, white, pink sauce\", \"pizza\", \"lasagana\", \"risotto\"]\n",
    "\n",
    "## display couisines \n",
    "print(\"Welcome to couisine recomendation system\")\n",
    "print(\"Please select a couisine from the list below\")\n",
    "print(\"1.Gujarati\\n2.Punjabi\\n3.Chinese\\n4.Italian\")\n",
    "\n",
    "##Take user input\n",
    "choice = int(input(\"Enter the number corresponding to your choice(1-4)\"))\n",
    "\n",
    "## Recommend dishes based in use choice\n",
    "if choice == 1:\n",
    "    print(f\"\\nRecommended Gujarati dishes are:\", gujarati)\n",
    "elif choice == 2:\n",
    "    print(f\"\\nRecommended Punjabi dishes are:\", punjabi)\n",
    "elif choice == 3:\n",
    "    print(f\"\\nRecommended Chinese dishes are:\", chinese)\n",
    "elif choice == 4:\n",
    "    print(\"\\nRecommended Italian dishes are:\", italian)\n",
    "else:\n",
    "    print(\"Invalid! Please select a number between (1-4)\")"
   ]
  }
 ],
 "metadata": {
  "kernelspec": {
   "display_name": "Python 3",
   "language": "python",
   "name": "python3"
  },
  "language_info": {
   "codemirror_mode": {
    "name": "ipython",
    "version": 3
   },
   "file_extension": ".py",
   "mimetype": "text/x-python",
   "name": "python",
   "nbconvert_exporter": "python",
   "pygments_lexer": "ipython3",
   "version": "3.10.5"
  }
 },
 "nbformat": 4,
 "nbformat_minor": 5
}
