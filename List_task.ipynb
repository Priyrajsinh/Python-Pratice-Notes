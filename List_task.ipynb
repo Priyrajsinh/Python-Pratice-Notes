{
 "cells": [
  {
   "cell_type": "code",
   "execution_count": 6,
   "id": "c0992e43",
   "metadata": {},
   "outputs": [
    {
     "name": "stdout",
     "output_type": "stream",
     "text": [
      "The sum using a loop is: 150\n"
     ]
    }
   ],
   "source": [
    "## 1. Find the sum of all elements in a list.\n",
    "##Hint: Use a loop or the sum() function.\n",
    "#my_list = [10, 20, 30, 40, 50]\n",
    "#total_sum = sum(my_list)\n",
    "#print(f\"The total using sum() function is {total_sum}\")\n",
    "my_list = [10, 20, 30, 40, 50]\n",
    "total_sum = 0\n",
    "for element in my_list:\n",
    "    total_sum += element\n",
    "print(f\"The sum using a loop is: {total_sum}\")"
   ]
  },
  {
   "cell_type": "code",
   "execution_count": null,
   "id": "4ec3ccf4",
   "metadata": {},
   "outputs": [
    {
     "name": "stdout",
     "output_type": "stream",
     "text": [
      "The largest number in the list is: 99\n",
      "The smallest number in the list is: 5\n"
     ]
    }
   ],
   "source": [
    "## 2. Find the largest and smallest numbers in a list.\n",
    "##Hint: Use max() and min() functions.\n",
    "num = [25, 56, 12, 34, 5, 99]\n",
    "large_num = max(num)\n",
    "small_num = min(num)\n",
    "print(f\"The largest number in the list is: {large_num}\")\n",
    "print(f\"The smallest number in the list is: {small_num}\")"
   ]
  },
  {
   "cell_type": "code",
   "execution_count": null,
   "id": "35f62559",
   "metadata": {},
   "outputs": [
    {
     "name": "stdout",
     "output_type": "stream",
     "text": [
      "[40, 10, 50, 20, 30]\n"
     ]
    }
   ],
   "source": [
    "## 3. Remove duplicates from a list.\n",
    "##Hint: Convert the list into a set and back to a list.\n",
    "list1 = [10, 30, 20, 10, 40, 10, 50]\n",
    "list2 = list(set(list1))\n",
    "print(list2)"
   ]
  },
  {
   "cell_type": "code",
   "execution_count": null,
   "id": "ee4c7f7f",
   "metadata": {},
   "outputs": [
    {
     "name": "stdout",
     "output_type": "stream",
     "text": [
      "The enterd string is: priyrajsinh\n",
      "The reversed string is: hnisjaryirp\n"
     ]
    }
   ],
   "source": [
    "## 4. Reverse a list without using reverse().Hint: Use slicing [::-1].\n",
    "text = input(\"Enter a string\")\n",
    "print(f\"The enterd string is: {text}\")\n",
    "print(f\"The reversed string is: {text[::-1]}\")"
   ]
  },
  {
   "cell_type": "code",
   "execution_count": null,
   "id": "ae76b07d",
   "metadata": {},
   "outputs": [
    {
     "name": "stdout",
     "output_type": "stream",
     "text": [
      "The sorted list is [1, 2, 3, 4, 5, 6, 7, 8, 9, 10]\n"
     ]
    }
   ],
   "source": [
    "## 5. Merge two lists and sort the result.Hint: Use + to concatenate and sorted() to sort\n",
    "list1 = [1, 3, 5, 7, 9]\n",
    "list2 = [2, 4, 6, 8, 10]\n",
    "list3 = list1 + list2\n",
    "list4 = sorted(list3)\n",
    "print(f\"The sorted list is {list4}\")"
   ]
  },
  {
   "cell_type": "code",
   "execution_count": 17,
   "id": "b336cd5e",
   "metadata": {},
   "outputs": [
    {
     "name": "stdout",
     "output_type": "stream",
     "text": [
      "yes\n"
     ]
    }
   ],
   "source": [
    "## 6. Check if an element exists in a list.Hint: Use the in keyword\n",
    "List1 = [\"apple\", \"cherry\", \"mango\", \"kiwi\", \"banana\"]\n",
    "if \"apple\" in List1:\n",
    "    print(\"yes\")"
   ]
  },
  {
   "cell_type": "code",
   "execution_count": 21,
   "id": "1335a225",
   "metadata": {},
   "outputs": [
    {
     "name": "stdout",
     "output_type": "stream",
     "text": [
      "The entered list is: [20, 30, 10, 40, 50]\n",
      "The sorted list in ascending order is: [10, 20, 30, 40, 50]\n",
      "The second largest number in the list is: 40\n"
     ]
    }
   ],
   "source": [
    "## 7. Find the second largest number in a list.Hint: Use sorted() and access the second last element.\n",
    "list1 = [20, 30, 10, 40, 50]\n",
    "print(f\"The entered list is: {list1}\")\n",
    "list2 = sorted(list1)\n",
    "print(f\"The sorted list in ascending order is: {list2}\")\n",
    "list3 = list2[-2]\n",
    "print(f\"The second largest number in the list is: {list3}\")\n"
   ]
  },
  {
   "cell_type": "code",
   "execution_count": null,
   "id": "1fa25f52",
   "metadata": {},
   "outputs": [
    {
     "name": "stdout",
     "output_type": "stream",
     "text": [
      "Number greater than 12 : [23, 45, 21]\n"
     ]
    }
   ],
   "source": [
    "## 8. Find all numbers in a list that are greater than a given number.Hint: Use a loop with an if condition.\n",
    "num = [5, 12, 23, 4, 45, 6, 21]\n",
    "input_num = 12\n",
    "great_num = [] #to store number greater than input number\n",
    "for num1 in num:\n",
    "    if num1 > input_num:\n",
    "        great_num.append(num1)\n",
    "print(f\"Number greater than\", input_num, \":\", great_num)"
   ]
  },
  {
   "cell_type": "code",
   "execution_count": 27,
   "id": "cb00a055",
   "metadata": {},
   "outputs": [
    {
     "name": "stdout",
     "output_type": "stream",
     "text": [
      "[1, 9, 4, 5, 9, 6, 9, 3, 9]\n"
     ]
    }
   ],
   "source": [
    "## 9. Replace all occurrences of an element in a listwith another value.Hint: Use a loop or list comprehension\n",
    "num = [1, 2, 4, 5, 2, 6, 2, 3, 2]\n",
    "old_num = 2\n",
    "new_num = 9\n",
    "\n",
    "for i in range(len(num)):\n",
    "    if num[i] == old_num:\n",
    "        num[i] = new_num\n",
    "print(num)"
   ]
  },
  {
   "cell_type": "code",
   "execution_count": 28,
   "id": "026d2122",
   "metadata": {},
   "outputs": [
    {
     "name": "stdout",
     "output_type": "stream",
     "text": [
      "[1, 2, 3, 4, 5, 6]\n"
     ]
    }
   ],
   "source": [
    "## 10. Flatten a nested list.Hint: Use recursion or a loop with extend()\n",
    "nest_list = [[1, 2], [3, 4], [5, 6]]\n",
    "flat_list = []\n",
    "\n",
    "for sublist in nest_list:\n",
    "    flat_list.extend(sublist)\n",
    "print(flat_list)"
   ]
  }
 ],
 "metadata": {
  "kernelspec": {
   "display_name": "Python 3",
   "language": "python",
   "name": "python3"
  },
  "language_info": {
   "codemirror_mode": {
    "name": "ipython",
    "version": 3
   },
   "file_extension": ".py",
   "mimetype": "text/x-python",
   "name": "python",
   "nbconvert_exporter": "python",
   "pygments_lexer": "ipython3",
   "version": "3.10.5"
  }
 },
 "nbformat": 4,
 "nbformat_minor": 5
}
