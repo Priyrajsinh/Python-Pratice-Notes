{
 "cells": [
  {
   "cell_type": "code",
   "execution_count": 7,
   "id": "fcd94695",
   "metadata": {},
   "outputs": [],
   "source": [
    "f = open(\"priyraj.txt\", \"a\")\n",
    "f.write(\"Hello from priyrajsinh\")\n",
    "f.close()"
   ]
  },
  {
   "cell_type": "code",
   "execution_count": 8,
   "id": "d584095d",
   "metadata": {},
   "outputs": [
    {
     "name": "stdout",
     "output_type": "stream",
     "text": [
      "Hello from priyrajsinh\n"
     ]
    }
   ],
   "source": [
    "f = open(\"priyraj.txt\", \"r\")\n",
    "print(f.read())\n",
    "f.close()"
   ]
  },
  {
   "cell_type": "code",
   "execution_count": 5,
   "id": "d2f33ab0",
   "metadata": {},
   "outputs": [],
   "source": [
    "import os\n",
    "os.remove(\"priyraj.txt\")"
   ]
  },
  {
   "cell_type": "code",
   "execution_count": 6,
   "id": "54cd275a",
   "metadata": {},
   "outputs": [
    {
     "name": "stdout",
     "output_type": "stream",
     "text": [
      "The file does not exist\n"
     ]
    }
   ],
   "source": [
    "import os\n",
    "if os.path.exists(\"priyraj.txt\"):\n",
    "    os.remove(\"priyraj.txt\")\n",
    "else:\n",
    "    print(\"The file does not exist\")"
   ]
  },
  {
   "cell_type": "code",
   "execution_count": null,
   "id": "8af892af",
   "metadata": {},
   "outputs": [],
   "source": []
  }
 ],
 "metadata": {
  "kernelspec": {
   "display_name": "Python 3",
   "language": "python",
   "name": "python3"
  },
  "language_info": {
   "codemirror_mode": {
    "name": "ipython",
    "version": 3
   },
   "file_extension": ".py",
   "mimetype": "text/x-python",
   "name": "python",
   "nbconvert_exporter": "python",
   "pygments_lexer": "ipython3",
   "version": "3.10.5"
  }
 },
 "nbformat": 4,
 "nbformat_minor": 5
}
