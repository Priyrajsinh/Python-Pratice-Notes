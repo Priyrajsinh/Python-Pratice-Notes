{
 "cells": [
  {
   "cell_type": "code",
   "execution_count": 1,
   "id": "27d36b76",
   "metadata": {},
   "outputs": [],
   "source": [
    "def priyrajsinh_parmar(a):\n",
    "    print(a ** 2)"
   ]
  },
  {
   "cell_type": "code",
   "execution_count": 2,
   "id": "e762d1d7",
   "metadata": {},
   "outputs": [
    {
     "name": "stdout",
     "output_type": "stream",
     "text": [
      "25\n"
     ]
    }
   ],
   "source": [
    "priyrajsinh_parmar(5)"
   ]
  }
 ],
 "metadata": {
  "kernelspec": {
   "display_name": "Python 3",
   "language": "python",
   "name": "python3"
  },
  "language_info": {
   "codemirror_mode": {
    "name": "ipython",
    "version": 3
   },
   "file_extension": ".py",
   "mimetype": "text/x-python",
   "name": "python",
   "nbconvert_exporter": "python",
   "pygments_lexer": "ipython3",
   "version": "3.10.5"
  }
 },
 "nbformat": 4,
 "nbformat_minor": 5
}
