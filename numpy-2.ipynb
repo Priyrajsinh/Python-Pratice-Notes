{
 "cells": [
  {
   "cell_type": "code",
   "execution_count": 1,
   "id": "1c7f8745",
   "metadata": {},
   "outputs": [],
   "source": [
    "import numpy as np"
   ]
  },
  {
   "cell_type": "code",
   "execution_count": null,
   "id": "1c2dd61d",
   "metadata": {},
   "outputs": [
    {
     "name": "stdout",
     "output_type": "stream",
     "text": [
      "[1 2 3 4 5 6 7 8 9]\n"
     ]
    }
   ],
   "source": [
    "# Arange function\n",
    "\n",
    "a = np.arange(1, 10)\n",
    "print(a)"
   ]
  },
  {
   "cell_type": "code",
   "execution_count": null,
   "id": "bf8f6f1a",
   "metadata": {},
   "outputs": [
    {
     "name": "stdout",
     "output_type": "stream",
     "text": [
      "[ 1.   3.2  5.4  7.6  9.8 12. ]\n"
     ]
    }
   ],
   "source": [
    "# Linespace Function\n",
    "## value \n",
    "## i = start+ix ((stop - start)/ num-1)\n",
    "\n",
    "a = np.linspace(1,12,6)\n",
    "print(a)"
   ]
  },
  {
   "cell_type": "code",
   "execution_count": 11,
   "id": "43f19bad",
   "metadata": {},
   "outputs": [
    {
     "name": "stdout",
     "output_type": "stream",
     "text": [
      "[[ 1  2  3  4  5  6  7  8]\n",
      " [ 9 10 11 12 13 14 15 16]\n",
      " [17 18 19 20 21 22 23 24]\n",
      " [25 26 27 28 29 30 31 32]]\n"
     ]
    }
   ],
   "source": [
    "## Reshape Function\n",
    "\n",
    "a = np.arange(1,33).reshape(4,8)\n",
    "print(a)"
   ]
  },
  {
   "cell_type": "code",
   "execution_count": 12,
   "id": "7ecdef47",
   "metadata": {},
   "outputs": [
    {
     "data": {
      "text/plain": [
       "array([[ 1,  2,  3,  4],\n",
       "       [ 5,  6,  7,  8],\n",
       "       [ 9, 10, 11, 12],\n",
       "       [13, 14, 15, 16],\n",
       "       [17, 18, 19, 20],\n",
       "       [21, 22, 23, 24],\n",
       "       [25, 26, 27, 28],\n",
       "       [29, 30, 31, 32]])"
      ]
     },
     "execution_count": 12,
     "metadata": {},
     "output_type": "execute_result"
    }
   ],
   "source": [
    "a.reshape(8,4)"
   ]
  },
  {
   "cell_type": "code",
   "execution_count": null,
   "id": "fedcb862",
   "metadata": {},
   "outputs": [
    {
     "name": "stdout",
     "output_type": "stream",
     "text": [
      "[[1 2 3]\n",
      " [4 5 6]\n",
      " [7 8 9]]\n",
      "[1 2 3 4 5 6 7 8 9]\n",
      "[[555   2   3]\n",
      " [  4   5   6]\n",
      " [  7   8   9]]\n",
      "[555   2   3   4   5   6   7   8   9]\n"
     ]
    }
   ],
   "source": [
    "## Ravel and Fattlen Function\n",
    "\n",
    "x = np.arange(1,10).reshape(3,3)\n",
    "print(x)\n",
    "x1 = x.ravel()\n",
    "print(x1)\n",
    "x[0,0] = 555\n",
    "print(x)\n",
    "print(x1)"
   ]
  },
  {
   "cell_type": "code",
   "execution_count": null,
   "id": "22b845ec",
   "metadata": {},
   "outputs": [
    {
     "data": {
      "text/plain": [
       "array([[555,   4,   7],\n",
       "       [  2,   5,   8],\n",
       "       [  3,   6,   9]])"
      ]
     },
     "execution_count": 16,
     "metadata": {},
     "output_type": "execute_result"
    }
   ],
   "source": [
    "# Transpose Function\n",
    "\n",
    "x.T"
   ]
  },
  {
   "cell_type": "code",
   "execution_count": 17,
   "id": "5a612be0",
   "metadata": {},
   "outputs": [
    {
     "data": {
      "text/plain": [
       "array([[ 1,  9, 17, 25],\n",
       "       [ 2, 10, 18, 26],\n",
       "       [ 3, 11, 19, 27],\n",
       "       [ 4, 12, 20, 28],\n",
       "       [ 5, 13, 21, 29],\n",
       "       [ 6, 14, 22, 30],\n",
       "       [ 7, 15, 23, 31],\n",
       "       [ 8, 16, 24, 32]])"
      ]
     },
     "execution_count": 17,
     "metadata": {},
     "output_type": "execute_result"
    }
   ],
   "source": [
    "a.transpose()"
   ]
  },
  {
   "cell_type": "code",
   "execution_count": null,
   "id": "d1e8fd89",
   "metadata": {},
   "outputs": [],
   "source": [
    "## Mathematical Operation\n",
    "\n",
    "a = np.arange(1,33).reshape(4,8)"
   ]
  }
 ],
 "metadata": {
  "kernelspec": {
   "display_name": "Python 3",
   "language": "python",
   "name": "python3"
  },
  "language_info": {
   "codemirror_mode": {
    "name": "ipython",
    "version": 3
   },
   "file_extension": ".py",
   "mimetype": "text/x-python",
   "name": "python",
   "nbconvert_exporter": "python",
   "pygments_lexer": "ipython3",
   "version": "3.10.5"
  }
 },
 "nbformat": 4,
 "nbformat_minor": 5
}
